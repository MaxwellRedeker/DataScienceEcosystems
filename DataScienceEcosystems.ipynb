{
 "cells": [
  {
   "cell_type": "markdown",
   "id": "53b3f106-4042-4aff-9efb-b4ece28854f1",
   "metadata": {},
   "source": [
    "# Data Science Tools and Ecosystems"
   ]
  },
  {
   "cell_type": "markdown",
   "id": "d60030df-a416-4182-afdf-5c2e0fc5c1ce",
   "metadata": {},
   "source": [
    "## In this notebook, Data Science Tools and Ecosystems are summarized"
   ]
  },
  {
   "cell_type": "markdown",
   "id": "8578a143-3e58-4c37-a853-8ed877fddc09",
   "metadata": {},
   "source": [
    "### Some of the popular languages that Data Scientists use are:\n",
    "- Python\n",
    "- R\n",
    "- C++\n",
    "- Java\n",
    "- JavaScript\n",
    "- SQL"
   ]
  },
  {
   "cell_type": "markdown",
   "id": "d56e171b",
   "metadata": {},
   "source": [
    "# Some of the commonly used libraries of Data Scientists include:\n",
    "\n",
    "* ggplot\n",
    "\n",
    "* Pandas\n",
    "\n",
    "* NumPy"
   ]
  },
  {
   "cell_type": "markdown",
   "id": "49b3d379-55cf-4cde-b87c-04c6ab4eaca3",
   "metadata": {},
   "source": [
    "|Data Science Tools|\n",
    "|-----------|\n",
    "|JupyterLab|\n",
    "|Jupyter Notebook|\n",
    "|JupyterLite|"
   ]
  },
  {
   "cell_type": "markdown",
   "id": "5823a2c8-d10e-4f48-851e-f6b2b441453f",
   "metadata": {},
   "source": [
    "### Below are a few examples of evaluating arithmetic expressions in Python"
   ]
  },
  {
   "cell_type": "code",
   "execution_count": null,
   "id": "31058ac9-0044-4374-91be-0d9dd22673b5",
   "metadata": {},
   "outputs": [
    {
     "data": {
      "text/plain": [
       "17"
      ]
     },
     "execution_count": 43,
     "metadata": {},
     "output_type": "execute_result"
    }
   ],
   "source": [
    "#This is a simple arithmetic expression to multiply then add integers\n",
    "(3*4)+5"
   ]
  },
  {
   "cell_type": "code",
   "execution_count": null,
   "id": "0492ea4b-e957-4d6b-99b7-2a99a7b5733b",
   "metadata": {},
   "outputs": [
    {
     "name": "stdout",
     "output_type": "stream",
     "text": [
      "3.3333333333333335\n"
     ]
    }
   ],
   "source": [
    "#This will convert 200 minutes to hours by dividing by 60\n",
    "a=200\n",
    "b=60\n",
    "z=a/b\n",
    "print(z)"
   ]
  },
  {
   "cell_type": "markdown",
   "id": "7771f446-e10b-4963-b7d4-a7bd54c815b2",
   "metadata": {},
   "source": [
    "# __Objectives:__\n",
    "\n",
    "* Save and download Jupyter Notebook\n",
    "\n",
    "* Identify the criteria and roles for determining the language to learn\n",
    "\n",
    "* Create a GitHub Account and project repo\n",
    "\n",
    "* Learn Markdown"
   ]
  },
  {
   "cell_type": "markdown",
   "id": "0fdd08de-bb05-41f5-bb51-045a645b2006",
   "metadata": {},
   "source": [
    "## Author\n",
    "Max R."
   ]
  }
 ],
 "metadata": {
  "kernelspec": {
   "display_name": "Python [conda env:base] *",
   "language": "python",
   "name": "conda-base-py"
  },
  "language_info": {
   "codemirror_mode": {
    "name": "ipython",
    "version": 3
   },
   "file_extension": ".py",
   "mimetype": "text/x-python",
   "name": "python",
   "nbconvert_exporter": "python",
   "pygments_lexer": "ipython3",
   "version": "3.12.2"
  }
 },
 "nbformat": 4,
 "nbformat_minor": 5
}
